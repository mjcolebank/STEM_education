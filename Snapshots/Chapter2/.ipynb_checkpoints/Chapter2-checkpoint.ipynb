{
 "cells": [
  {
   "cell_type": "markdown",
   "metadata": {
    "slideshow": {
     "slide_type": "slide"
    }
   },
   "source": [
    "# Snapshots in Hemodynamics\n",
    "## Chapter 2: Law of Poiseuille\n"
   ]
  },
  {
   "cell_type": "markdown",
   "metadata": {},
   "source": [
    "The law of Poiseuille is a simplified model of fluid mechanics. This law states\n",
    "\n",
    "$$Q = \\frac{\\Delta p \\pi r^4}{8 \\mu L}$$\n",
    "\n",
    "where $Q$ (cm/s) is the flow rate, $p$ (g/cm/s$^2$)$^{1}$ is the transmural pressure, $r$ (cm) is the tube radius, $\\mu$ (cm/s$^2$) is the viscosity, and $L$ (cm) is the tube length.\n",
    "\n",
    "$^1$ Note: 1 dyne/cm$^2$ $\\equiv$ 1 g/cm/s$^2$, and 1 mmHg $\\equiv$ 1333.22 g/cm/s$^2$"
   ]
  },
  {
   "cell_type": "markdown",
   "metadata": {},
   "source": [
    "## Derivation from fluid mechanic principles\n",
    "The Hagen-Poiseuille (or just \"Poiseuille\") equation can be derived from the Navier-Stokes equations, recasted into cylindrical coordinates (i.e., radial $u_r$, circumferential $u_\\theta$, and axial $u_x$ coordinates). We make the following assumptions\n",
    "* Flow is steady, hence $u(r,\\theta,x,t) \\equiv u((r,\\theta,x)$;\n",
    "* Flow is predominantly in the axial direction, so $u_r=u_\\theta=0$;\n",
    "* Flow is axisymmetric, hence $u$ does not vary with $\\theta$ and $u$ is symmetric across $r=0$ in the center; and\n",
    "* The flow is fully developed, hence $u_x$ does not vary with axial location\n"
   ]
  },
  {
   "cell_type": "code",
   "execution_count": 1,
   "metadata": {
    "scrolled": true,
    "slideshow": {
     "slide_type": "slide"
    }
   },
   "outputs": [],
   "source": [
    "# %matplotlib widget\n",
    "import numpy as np\n",
    "import matplotlib.pyplot as plt\n",
    "import ipywidgets as widgets"
   ]
  },
  {
   "cell_type": "code",
   "execution_count": 2,
   "metadata": {
    "slideshow": {
     "slide_type": "slide"
    }
   },
   "outputs": [],
   "source": [
    "def u_func(vmax,rmax,steps):\n",
    "    r = np.linspace(-rmax,rmax,steps)\n",
    "    v_r = vmax*(1-r**2/rmax**2)\n",
    "    return v_r\n",
    "\n",
    "def u_func2(dP,rmax,mu,L,steps):\n",
    "    r = np.linspace(-rmax,rmax,steps)\n",
    "    v = (dP*(rmax**2-r**2))/(4*mu*L)\n",
    "    return v\n",
    "\n",
    "\n",
    "vmax = 5 #cm/s\n",
    "rmax = 1 #cm\n",
    "steps = 50\n",
    "r = np.linspace(-rmax,rmax,steps)\n",
    "u_vals = u_func(vmax,rmax,steps)"
   ]
  },
  {
   "cell_type": "code",
   "execution_count": 38,
   "metadata": {},
   "outputs": [],
   "source": [
    "def u_plot(vmax,rmax,steps):\n",
    "\n",
    "    u = u_func(vmax,rmax,steps)\n",
    "    r = np.linspace(-rmax,rmax,steps)\n",
    "    \n",
    "    fig, ax = plt.subplots()\n",
    "    ax.plot(u,r)\n",
    "\n",
    "    ax.set(xlabel='Velocity (cm/s)', ylabel='Radius (cm)', \n",
    "           title='Poiseuille flow profile')\n",
    "    ax.grid()\n",
    "    ax.set_xlim((0, 10))\n",
    "    ax.set_ylim((-10, 10))\n",
    "\n",
    "    # fig.savefig(\"test.png\")\n",
    "    plt.show()\n",
    "    \n",
    "    \n",
    "def u_plot2(dP,rmax,mu,L,steps):\n",
    "\n",
    "    u = u_func2(dP,rmax,mu,L,steps)\n",
    "    r = np.linspace(-rmax,rmax,steps)\n",
    "    \n",
    "    fig, ax = plt.subplots()\n",
    "    ax.plot(u,r)\n",
    "\n",
    "    ax.set(xlabel='Velocity (cm/s)', ylabel='Radius (cm)', \n",
    "           title='Poiseuille flow profile')\n",
    "    ax.grid()\n",
    "    ax.set_xlim((0, 100))\n",
    "    ax.set_ylim((-10, 10))\n",
    "\n",
    "    # fig.savefig(\"test.png\")\n",
    "    plt.show()\n",
    "    \n",
    "    \n",
    "def q_plot(rmax,mu,L,steps):\n",
    "    dP = np.linspace(0,120,steps)*1333.22\n",
    "    r = np.linspace(-rmax,rmax,steps)\n",
    "    Q = dP*(np.math.pi*r**4)/(8*mu*L)\n",
    "    \n",
    "    fig, ax = plt.subplots()\n",
    "    ax.plot(dP/1333.22,Q)\n",
    "\n",
    "    ax.set(xlabel='Pressure (mmHg)', ylabel='Flow (cm/s)', \n",
    "           title='Flow rate')\n",
    "    ax.grid()\n",
    "    ax.set_xlim((0, 120))\n",
    "    ax.set_ylim((0, 200))\n",
    "\n",
    "    # fig.savefig(\"test.png\")\n",
    "    plt.show()\n",
    "    \n",
    "    \n",
    "def shear_plot(Pmax,Qmax,rmax,mu,L):\n",
    "    steps = 50\n",
    "    dP = np.linspace(0,Pmax,steps)*1333.22\n",
    "    r = rmax#np.linspace(0,rmax,steps)\n",
    "    Q = np.linspace(0,Qmax,steps)*1000.0 #L/s to cm^3/s\n",
    "    \n",
    "    tauP = (dP*r)/(2.0*L)\n",
    "    tauQ = (4*mu*Q)/(np.math.pi*r**3)\n",
    "    \n",
    "    \n",
    "    fig, (ax1, ax2) = plt.subplots(1, 2)\n",
    "    ax1.plot(dP/1333.22, tauP)\n",
    "    ax1.set(xlabel='Pressure (mmHg)', ylabel='Shear stress (g/cm s^2)', \n",
    "           title='Flow rate')\n",
    "    ax1.grid()\n",
    "#     ax1.set_xlim((0, 120))\n",
    "#     ax1.set_ylim((0, 200))\n",
    "    \n",
    "    ax2.plot(Q/1000.0, tauQ)\n",
    "    ax2.set(xlabel='Flow (L/s)', ylabel='Shear stress (g/cm s^2)', \n",
    "           title='Flow rate')\n",
    "    ax2.grid()\n",
    "#     ax2.set_xlim((0, 6))\n",
    "#     ax2.set_ylim((0, 200))\n",
    "\n"
   ]
  },
  {
   "cell_type": "code",
   "execution_count": 4,
   "metadata": {
    "scrolled": true
   },
   "outputs": [
    {
     "data": {
      "application/vnd.jupyter.widget-view+json": {
       "model_id": "15b152e947114a2daf366bbecdc15669",
       "version_major": 2,
       "version_minor": 0
      },
      "text/plain": [
       "interactive(children=(FloatSlider(value=5.0, description='dP', max=10.0, step=1.0), FloatSlider(value=5.005, d…"
      ]
     },
     "metadata": {},
     "output_type": "display_data"
    }
   ],
   "source": [
    "v = widgets.interactive(u_plot2,dP=(0.0,10.0,1), rmax=(0.01,10.0),mu=(0.01,3.2),L=(0.05,20), steps = (50,50))\n",
    "display(v)"
   ]
  },
  {
   "cell_type": "code",
   "execution_count": 5,
   "metadata": {
    "scrolled": true
   },
   "outputs": [
    {
     "data": {
      "application/vnd.jupyter.widget-view+json": {
       "model_id": "12b4dbea5c1f4076b74ca8ffd761f75a",
       "version_major": 2,
       "version_minor": 0
      },
      "text/plain": [
       "interactive(children=(FloatSlider(value=2.5, description='rmax', max=5.0, min=0.5, step=0.5), FloatSlider(valu…"
      ]
     },
     "metadata": {},
     "output_type": "display_data"
    }
   ],
   "source": [
    "v2 = widgets.interactive(q_plot,rmax=(0.5,5.0,0.5),mu=(0.1,3.2,0.1),L=(0.5,20,0.5), steps = (50,50))\n",
    "display(v2)"
   ]
  },
  {
   "cell_type": "code",
   "execution_count": 39,
   "metadata": {},
   "outputs": [
    {
     "data": {
      "application/vnd.jupyter.widget-view+json": {
       "model_id": "b6cf92a2a3824a54b0cb04871ae08c86",
       "version_major": 2,
       "version_minor": 0
      },
      "text/plain": [
       "interactive(children=(FloatSlider(value=60.0, description='Pmax', max=120.0, step=10.0), FloatSlider(value=3.0…"
      ]
     },
     "metadata": {},
     "output_type": "display_data"
    }
   ],
   "source": [
    "v3 = widgets.interactive(shear_plot,Pmax=(0.0,120.0,10.0),\n",
    "                         Qmax=(0.0,6.0,0.5),\n",
    "                         rmax=(0.5,5.0,0.5), \n",
    "                         mu=(0.1,3.2,0.1), \n",
    "                         L=(0.5,20,0.5))\n",
    "# v3 = widgets.interactive(shear_plot,\n",
    "#                          rmax=(0.5,5.0,0.5), \n",
    "#                          mu=(0.1,3.2,0.1), \n",
    "#                          L=(0.5,20,0.5))\n",
    "display(v3)\n",
    "# shear_plot(Pmax,Qmax,rmax,mu,L):"
   ]
  },
  {
   "cell_type": "code",
   "execution_count": null,
   "metadata": {},
   "outputs": [],
   "source": []
  }
 ],
 "metadata": {
  "kernelspec": {
   "display_name": "Python 3",
   "language": "python",
   "name": "python3"
  },
  "language_info": {
   "codemirror_mode": {
    "name": "ipython",
    "version": 3
   },
   "file_extension": ".py",
   "mimetype": "text/x-python",
   "name": "python",
   "nbconvert_exporter": "python",
   "pygments_lexer": "ipython3",
   "version": "3.6.8"
  }
 },
 "nbformat": 4,
 "nbformat_minor": 2
}
