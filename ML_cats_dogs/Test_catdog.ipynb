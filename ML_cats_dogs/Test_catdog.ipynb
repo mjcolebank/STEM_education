{
 "cells": [
  {
   "cell_type": "code",
   "execution_count": 28,
   "metadata": {},
   "outputs": [],
   "source": [
    "##### Test script for CAT & DOG machine learning."
   ]
  },
  {
   "cell_type": "code",
   "execution_count": 29,
   "metadata": {},
   "outputs": [],
   "source": [
    "import numpy as np\n",
    "import matplotlib.pyplot as plt\n",
    "import matplotlib.image as mpimg\n",
    "import keras as K\n",
    "from keras.models import Sequential\n",
    "from keras.layers import Dense, Dropout, Flatten, Conv2D, MaxPooling2D\n",
    "from keras.callbacks import ModelCheckpoint\n",
    "from keras.preprocessing.image import ImageDataGenerator\n",
    "\n",
    "import scipy as sp\n",
    "import sklearn as sk"
   ]
  },
  {
   "cell_type": "code",
   "execution_count": 5,
   "metadata": {},
   "outputs": [],
   "source": [
    "N_cat = 20\n",
    "N_dog = 20"
   ]
  },
  {
   "cell_type": "code",
   "execution_count": 37,
   "metadata": {
    "scrolled": false
   },
   "outputs": [
    {
     "name": "stdout",
     "output_type": "stream",
     "text": [
      "Found 8005 images belonging to 2 classes.\n",
      "Found 2023 images belonging to 2 classes.\n"
     ]
    }
   ],
   "source": [
    "## Set up the image generator \n",
    "train_datagen = ImageDataGenerator(rescale=1./255)\n",
    "#                                     shear_range = 0.2,\n",
    "#                                zoom_range = 0.2,\n",
    "#                                horizontal_flip = True)\n",
    "\n",
    "test_datagen = ImageDataGenerator(rescale=1./255)\n",
    "\n",
    "train_set = train_datagen.flow_from_directory('training_set',\n",
    "                                             target_size = (64,64),\n",
    "                                             batch_size = 32,\n",
    "                                             class_mode = 'binary')\n",
    "\n",
    "test_set = train_datagen.flow_from_directory('test_set',\n",
    "                                             target_size = (64,64),\n",
    "                                             batch_size = 32,\n",
    "                                             class_mode = 'binary')"
   ]
  },
  {
   "cell_type": "code",
   "execution_count": 38,
   "metadata": {},
   "outputs": [
    {
     "name": "stderr",
     "output_type": "stream",
     "text": [
      "/Library/Frameworks/Python.framework/Versions/3.6/lib/python3.6/site-packages/ipykernel_launcher.py:3: UserWarning: Update your `Conv2D` call to the Keras 2 API: `Conv2D(32, (3, 3), input_shape=(64, 64, 3..., activation=\"relu\")`\n",
      "  This is separate from the ipykernel package so we can avoid doing imports until\n"
     ]
    }
   ],
   "source": [
    "## Now build the CNN\n",
    "model = Sequential()\n",
    "model.add(Conv2D(32 , 3, 3,  input_shape = (64, 64, 3), activation = 'relu'))\n",
    "model.add(MaxPooling2D(pool_size  = (2,2)))\n",
    "model.add(Flatten())\n",
    "model.add(Dense(128, activation = 'relu'))\n",
    "model.add(Dense(1, activation = 'sigmoid'))\n",
    "model.compile(optimizer = 'adam', loss = 'binary_crossentropy', metrics = ['accuracy'])\n"
   ]
  },
  {
   "cell_type": "code",
   "execution_count": 39,
   "metadata": {},
   "outputs": [
    {
     "name": "stdout",
     "output_type": "stream",
     "text": [
      "Epoch 1/2\n",
      "100/100 [==============================] - 29s 294ms/step - loss: 0.7393 - acc: 0.5909 - val_loss: 0.6324 - val_acc: 0.6256\n",
      "Epoch 2/2\n",
      "100/100 [==============================] - 29s 290ms/step - loss: 0.6110 - acc: 0.6647 - val_loss: 0.6101 - val_acc: 0.6540\n"
     ]
    },
    {
     "data": {
      "text/plain": [
       "<keras.callbacks.History at 0x12b23d6d8>"
      ]
     },
     "execution_count": 39,
     "metadata": {},
     "output_type": "execute_result"
    }
   ],
   "source": [
    "model.fit_generator(train_set, steps_per_epoch = 100, \n",
    "                        epochs = 2, \n",
    "                        validation_data = test_set, \n",
    "                        validation_steps = 50)"
   ]
  },
  {
   "cell_type": "code",
   "execution_count": 41,
   "metadata": {},
   "outputs": [
    {
     "name": "stdout",
     "output_type": "stream",
     "text": [
      "Help on method apply_transform in module keras_preprocessing.image:\n",
      "\n",
      "apply_transform(x, transform_parameters) method of keras.preprocessing.image.ImageDataGenerator instance\n",
      "    Applies a transformation to an image according to given parameters.\n",
      "    \n",
      "    # Arguments\n",
      "        x: 3D tensor, single image.\n",
      "        transform_parameters: Dictionary with string - parameter pairs\n",
      "            describing the transformation.\n",
      "            Currently, the following parameters\n",
      "            from the dictionary are used:\n",
      "            - `'theta'`: Float. Rotation angle in degrees.\n",
      "            - `'tx'`: Float. Shift in the x direction.\n",
      "            - `'ty'`: Float. Shift in the y direction.\n",
      "            - `'shear'`: Float. Shear angle in degrees.\n",
      "            - `'zx'`: Float. Zoom in the x direction.\n",
      "            - `'zy'`: Float. Zoom in the y direction.\n",
      "            - `'flip_horizontal'`: Boolean. Horizontal flip.\n",
      "            - `'flip_vertical'`: Boolean. Vertical flip.\n",
      "            - `'channel_shift_intencity'`: Float. Channel shift intensity.\n",
      "            - `'brightness'`: Float. Brightness shift intensity.\n",
      "    \n",
      "    # Returns\n",
      "        A transformed version of the input (same shape).\n",
      "\n"
     ]
    }
   ],
   "source": [
    "help(train_datagen.apply_transform)"
   ]
  },
  {
   "cell_type": "code",
   "execution_count": null,
   "metadata": {},
   "outputs": [],
   "source": []
  }
 ],
 "metadata": {
  "kernelspec": {
   "display_name": "Python 3",
   "language": "python",
   "name": "python3"
  },
  "language_info": {
   "codemirror_mode": {
    "name": "ipython",
    "version": 3
   },
   "file_extension": ".py",
   "mimetype": "text/x-python",
   "name": "python",
   "nbconvert_exporter": "python",
   "pygments_lexer": "ipython3",
   "version": "3.6.2"
  }
 },
 "nbformat": 4,
 "nbformat_minor": 2
}
